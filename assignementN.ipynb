{
 "cells": [
  {
   "cell_type": "markdown",
   "id": "dd7ed644",
   "metadata": {},
   "source": [
    "# Assignment 1: Speech Production and Models \n",
    "#### EQ2321 Speech and Audio Signal Processing\n",
    "\n",
    "Max. grade: 28.5"
   ]
  },
  {
   "cell_type": "markdown",
   "id": "c7d1f732",
   "metadata": {},
   "source": [
    "**Instructions for the deliverables**\n",
    "\n",
    "Perform all (or as many as you can) of the tasks in this project assignment.\n",
    "Summarize your results in a presentation style document. \n",
    "You are going to present your work to the course responsible or one of the teaching assistants (TA)\n",
    "and it pays off to have a clear, well structured and brief document. Explicitly\n",
    "state, on the slides, the problem numbers.\n",
    "Include an algorithmic solution and/or numerical result and/or a graph illustrating your results.\n",
    "Your Matlab code should be functioning and easy to read.\n",
    "\n",
    "You have to send us you `Python` source code at least a day before the scheduled time for your\n",
    "presentation. \n",
    "Use a naming convention for your files that is easy to understand and associate with a specific problem number. \n",
    "Be prepared to demo your own code on a personal or our computer.\n",
    "Archive your files before sending them to us!\n",
    "\n",
    "**Grading system**\n",
    "Each correctly solved task brings you a certain amount of points.\n",
    "The grade you get depends on the amount of points you accumulate and your ability to motivate your solutions during the presentation.\n",
    "A passing grade corresponds to having 30\\% and more of the total amount of points, while an excellent grade requires 85\\% and more.\n",
    "No points will be granted for a correct response if you cannot motivate your answer.\n",
    "\n",
    "Keep in mind, when working in a group of two, that both people are expected to be able to make a complete presentation and answer questions related to all problems.\n",
    "You may be graded differently depending on your responses.\n",
    "The grade you get depends on the amount of correctly solved tasks and your ability to motivate the solutions during the presentation."
   ]
  },
  {
   "cell_type": "markdown",
   "id": "11d58e31",
   "metadata": {},
   "source": [
    "## Introduction\n",
    "\n",
    "The first assignment is perhaps the most important for two reasons: \n",
    "Firstly, the knowledge obtained in this exercise is the basis for the whole course, and the program code that you produce will be useful in coming exercises. \n",
    "Secondly, this exercise is relatively easy, and this is a chance for all who are not familiar with the `Python` environment to catch up. \n",
    "\n",
    "The coming computer exercises will require more `Python` knowledge (but will also be proportionally more\n",
    "exciting).\n",
    "On the course homepage you can find the speech data which you will analyze in this computer assignment.\n",
    "Download and unzip the file assignment1.zip from the course webpage. \n",
    "Store it in a directory which is readable from the `Python` prompt.\n",
    "\n",
    "All the signals are sampled at 8 kHz. The signals are stored in double floating point format, but they originate from 16 bit AD conversion.\n",
    "\n",
    "In this first assignment a lot of code is provided to you.\n",
    "Note that this is for your convenience only; if you prefer to write your own code from scratch we\n",
    "encourage you to do so, but it may be time consuming."
   ]
  },
  {
   "cell_type": "markdown",
   "id": "2e9b3f45",
   "metadata": {},
   "source": [
    "## Bandwidth of Speech (2.5 pts)"
   ]
  },
  {
   "cell_type": "markdown",
   "id": "7db7190a",
   "metadata": {},
   "source": [
    "In our first experiment we study how low-pass filtering affects the speech signal. Load the files male44.waw and female44.wav. The speech is sampled at 44.1 kHz."
   ]
  },
  {
   "cell_type": "code",
   "execution_count": 3,
   "id": "0900440c",
   "metadata": {},
   "outputs": [],
   "source": [
    "import pickle as pkl\n",
    "\n",
    "male_fname=\"male44.wav\"\n",
    "female_fname=\"female44.wav\"\n",
    "assignment_file=\"assignment1.pkl\"\n",
    "\n",
    "def read_assignment_file(fname):\n",
    "    with open(fname,\"rb\") as f:\n",
    "        d=pkl.load(f)\n",
    "    return d\n",
    "\n",
    "\n",
    "d=read_assignment_file(assignment_file)\n",
    "from scipy.io import wavfile\n",
    "import numpy as np\n",
    "\n",
    "def read_wav(fname):\n",
    "    raw_data=wavfile.read(fname)\n",
    "    return raw_data[1].astype(np.float32), raw_data[0]\n",
    "\n",
    "\n",
    "# https://python-sounddevice.readthedocs.io/en/0.3.6/\n",
    "# !pip install sounddevice\n",
    "\n",
    "import sounddevice as sd\n",
    "\n",
    "def play_wav(x,fs):\n",
    "    sd.play(x.astype(np.int16),fs)\n",
    "\n",
    "\n",
    "from scipy.signal import firwin,filtfilt\n",
    "def lowpass(x,fc,fs=44100):\n",
    "    \"\"\" x is the signal, \n",
    "        fc is the cuttoff frequency expressed in Hz, must be between [0,fs/2]\n",
    "    \"\"\"\n",
    "    b = firwin(1024, fc,fs=fs)\n",
    "    y = filtfilt(b,1,x)\n",
    "    return y\n"
   ]
  },
  {
   "cell_type": "markdown",
   "id": "90d489e7",
   "metadata": {},
   "source": [
    "### Question 1 (0.5 pts)\n",
    "\n",
    "\n",
    "This is a test of intelligibility, i.e., how well we can understand what is spoken.\n",
    "\n",
    "At what cut-off frequency do you start hearing what is said?"
   ]
  },
  {
   "cell_type": "markdown",
   "id": "2fe2eb4d",
   "metadata": {},
   "source": [
    "### Question 2 (0.5 pts)\n",
    "\n",
    "At what cut-off frequency do you start to hear a degradation in overall speech quality?"
   ]
  },
  {
   "cell_type": "code",
   "execution_count": 4,
   "id": "5957e82c",
   "metadata": {},
   "outputs": [],
   "source": [
    "xmale,fs=read_wav(male_fname)\n",
    "xfemale,fs=read_wav(female_fname)"
   ]
  },
  {
   "cell_type": "code",
   "execution_count": 5,
   "id": "654aef84",
   "metadata": {},
   "outputs": [],
   "source": [
    "# Inteligibility\n",
    "play_wav(lowpass(xmale,2000,fs=fs),fs)"
   ]
  },
  {
   "cell_type": "code",
   "execution_count": 6,
   "id": "d6bdfdc1",
   "metadata": {},
   "outputs": [],
   "source": [
    "play_wav(lowpass(xfemale,2000,fs=fs),fs)"
   ]
  },
  {
   "cell_type": "code",
   "execution_count": 7,
   "id": "9b03a19f",
   "metadata": {},
   "outputs": [],
   "source": [
    "# Degradation\n",
    "play_wav(lowpass(xfemale,3000,fs=fs),fs)"
   ]
  },
  {
   "cell_type": "code",
   "execution_count": 8,
   "id": "a33db192",
   "metadata": {},
   "outputs": [],
   "source": [
    "play_wav(lowpass(xfemale,3500,fs=fs),fs)"
   ]
  },
  {
   "cell_type": "markdown",
   "id": "4671cf1d",
   "metadata": {},
   "source": [
    "### Question 3 (1 pts)\n",
    "\n",
    "Why, do you think (you are allowed to speculate!), is a sampling frequency of 8 kHz used in plain old telephony services (POTS)? "
   ]
  },
  {
   "cell_type": "markdown",
   "id": "0345bbfb",
   "metadata": {},
   "source": [
    "## Voiced and Unvoiced Speech Sounds (8 pts)\n",
    "\n",
    "From a time plot, find voiced and unvoiced regions. Study the harmonic structure and envelope of the speech spectra corresponding to voiced and\n",
    "unvoiced regions."
   ]
  },
  {
   "cell_type": "code",
   "execution_count": 9,
   "id": "43dbfc04",
   "metadata": {},
   "outputs": [
    {
     "name": "stderr",
     "output_type": "stream",
     "text": [
      "ALSA lib pcm.c:8526:(snd_pcm_recover) underrun occurred\n"
     ]
    }
   ],
   "source": [
    "from scipy import signal\n",
    "from scipy.fft import fft, fftshift\n",
    "import matplotlib.pyplot as plt"
   ]
  },
  {
   "cell_type": "markdown",
   "id": "59ad953a",
   "metadata": {},
   "source": [
    "### Question 1 (0.5 pts)\n",
    "\n",
    "Create a time plot with voiced and unvoiced regions marked."
   ]
  },
  {
   "cell_type": "markdown",
   "id": "255b5b45",
   "metadata": {},
   "source": [
    "### Question 2 (0.5 pts)\n",
    "\n",
    "In the time plot, mark the regions where the pitch is the highest and the lowest. What are the pitch frequencies in those regions?"
   ]
  },
  {
   "cell_type": "markdown",
   "id": "0cb6cc45",
   "metadata": {},
   "source": [
    "### Question 3 (0.5 pts)\n",
    "\n",
    "Plot the DFT based spectrum for a voiced frame using, the following snippet:"
   ]
  },
  {
   "cell_type": "code",
   "execution_count": 12,
   "id": "06371f05",
   "metadata": {},
   "outputs": [
    {
     "data": {
      "image/png": "[encoded data removed]",
      "text/plain": [
       "<Figure size 432x288 with 1 Axes>"
      ]
     },
     "metadata": {
      "needs_background": "light"
     },
     "output_type": "display_data"
    }
   ],
   "source": [
    "S= 0#... # Start of the frame\n",
    "N=256#... # Length of the frame\n",
    "\n",
    "x=d[\"male_long\"].reshape(-1)\n",
    "xf = x[S:S+N]*signal.windows.hann(N);\n",
    "X = fft(xf);\n",
    "plt.figure()\n",
    "plt.plot(10*np.log10(np.abs(X[1:N//2+1])**2));"
   ]
  },
  {
   "cell_type": "markdown",
   "id": "9ea958fc",
   "metadata": {},
   "source": [
    "### Question 4 (1 pts)\n",
    "\n",
    "What is the mathematical expression of element `X[3]`, i.e.,\n",
    "the third element in the FFT vector? What analog frequency (between\n",
    "0-8000 Hz) does `X[3]` correspond to?\n"
   ]
  },
  {
   "cell_type": "markdown",
   "id": "da6813db",
   "metadata": {},
   "source": [
    "### Question 5 (0.5 pts)\n",
    "\n",
    "What is the fundamental frequency (pitch) in your particular case?"
   ]
  },
  {
   "cell_type": "markdown",
   "id": "5a11cd7e",
   "metadata": {},
   "source": [
    "### Question 6 (1 pts)\n",
    "\n",
    "What frame length is appropriate? What compromise do you have to\n",
    "make when choosing frame length?"
   ]
  },
  {
   "cell_type": "markdown",
   "id": "eb890b17",
   "metadata": {},
   "source": [
    "### Question 7 (1 pts)\n",
    "\n",
    "Replace the hanning window function with a rectangular window and compare the result."
   ]
  },
  {
   "cell_type": "markdown",
   "id": "c9ffe1aa",
   "metadata": {},
   "source": [
    "### Question 8 (0.5 pts)\n",
    "\n",
    "Extend the code above with the following lines to plot also the LP envelope of the short-time speech spectrum:"
   ]
  },
  {
   "cell_type": "code",
   "execution_count": 18,
   "id": "45c5dd58",
   "metadata": {},
   "outputs": [],
   "source": [
    "from scipy.linalg import solve_toeplitz, toeplitz\n",
    "def xcorr(x,y,M=10):\n",
    "    \"\"\"\n",
    "    Perform Cross-Correlation on x and y\n",
    "    x    : 1st signal\n",
    "    y    : 2nd signal\n",
    "\n",
    "    returns\n",
    "    lags : lags of correlation\n",
    "    corr : coefficients of correlation\n",
    "    \"\"\"\n",
    "    corr = signal.correlate(x, y, mode=\"full\")\n",
    "    lags = signal.correlation_lags(len(x), len(y), mode=\"full\")\n",
    "    idx=(lags>=-M) & (lags<=M)\n",
    "    corr = corr[idx]\n",
    "    lags=lags[idx]\n",
    "    return lags[len(lags)//2:], corr[len(lags)//2:]\n",
    "\n",
    "def get_envelop(xf,M,N=1024,fs=44100):\n",
    "\n",
    "    lags, r = xcorr(xf, xf,M=M)\n",
    "\n",
    "    a=np.concatenate([np.ones(1), solve_toeplitz(r[:-1], -r[1:])]).reshape(-1,1)\n",
    "    e=(a.T @ r)[0]\n",
    "    w, h2=signal.freqz(1,a,N,whole=True,fs=fs)\n",
    "    \n",
    "    X = fft(xf);\n",
    "    fig,ax=plt.subplots(1,1)\n",
    "    \n",
    "    ax.plot(w[1:N//2+1],10*np.log10(np.abs(X[1:N//2+1])**2),label=\"$X(f)$\")\n",
    "    ax.plot(w[1:N//2+1],10*np.log10(e*np.abs(h2[1:N//2+1])**2),label=\"$Envelop$\")\n",
    "    ax.set_xlabel(\"Frequency (Hz)\")\n",
    "    ax.set_ylabel(\"Amplitude\")\n",
    "    ax.legend()\n",
    "    return fig,ax\n",
    "\n",
    "\n",
    "# M is the prediction order\n",
    "M = 10\n",
    "fig,ax=get_envelop(xf,M,N=N,fs=fs)"
   ]
  },
  {
   "cell_type": "markdown",
   "id": "cc3ee42b",
   "metadata": {},
   "source": [
    "### Question 9 (1 pts)\n",
    "\n",
    "What is the mathematical expression of element `c(3)` (`corr(3)` in the `xcorr` function)? Why do we multiply `abs(h[1:N//2+1])**2` by `e` before plotting?"
   ]
  },
  {
   "cell_type": "markdown",
   "id": "a2e3d300",
   "metadata": {},
   "source": [
    "### Question 10 (1 pts)\n",
    "\n",
    "What prediction order do you recommend? "
   ]
  },
  {
   "cell_type": "markdown",
   "id": "08e05697",
   "metadata": {},
   "source": [
    "### Question 11 (0.5 pts)\n",
    "\n",
    "Repeat the spectrum plotting for an unvoiced frame."
   ]
  },
  {
   "cell_type": "markdown",
   "id": "9ae59acf",
   "metadata": {},
   "source": [
    "### Some remarks\n",
    "\n",
    "1. The statement “Plot the spectrum” is vague. There are many alternatives,\n",
    "e.g. plotting the real, and imaginary part of the FT separately. Here we\n",
    "focus on the squared magnitude of the DFT coefficients, and hence disre-\n",
    "gard the phase. Also it is common to plot the spectrum in a logarithmic\n",
    "scale, i.e., in decibels (dB), since this better reflects what we actually hear."
   ]
  },
  {
   "cell_type": "markdown",
   "id": "9e5c7c36",
   "metadata": {},
   "source": [
    "## Formants (2.5 pts)"
   ]
  },
  {
   "cell_type": "markdown",
   "id": "2ecd35d2",
   "metadata": {},
   "source": [
    "In the speech variable “male short”, try to identify the vowels by comparing\n",
    "the formants from an LP analysis to the formant frequencies of template vowels\n",
    "in Table 1. Note that the table contains only the three first formants; you can\n",
    "often see up to four formants.\n",
    "\n",
    "\n",
    "vowel|F1|F2|F3|example\n",
    "---:|:--:|:|--:|:---:|\n",
    "iy|270|2290|3010|beet\n",
    "ih|390|1990|2550|bit\n",
    "eh|530|1840|2480|bet\n",
    "ae|660|1720|2410|bat\n",
    "ah|520|1190|2390|but\n",
    "aa|730|1090|2240|hot\n",
    "ao|570|840|2410|bought\n",
    "uh|440|1020|2240|foot\n",
    "uw|300|870|2240|boot\n",
    "er|490|1350|1690|bird"
   ]
  },
  {
   "cell_type": "markdown",
   "id": "23d1a6f5",
   "metadata": {},
   "source": [
    "### Question 1 (1 pts)\n",
    "\n",
    "In the time plot from the previous section, add the formant frequencies\n",
    "and the vowels you come up with."
   ]
  },
  {
   "cell_type": "markdown",
   "id": "a3d2872b",
   "metadata": {},
   "source": [
    "### Question 2 (1.5 pts)\n",
    "\n",
    "How are pitch and formant frequencies related?"
   ]
  },
  {
   "cell_type": "markdown",
   "id": "79099a70",
   "metadata": {},
   "source": [
    "## Phonemes and Allophones (2.5 pts)\n",
    "\n",
    "Vowels, which we studied in the previous section, constitute one class of phonemes.\n",
    "Here we identify what other phonemes are contained in “male short”."
   ]
  },
  {
   "cell_type": "markdown",
   "id": "4ca18edf",
   "metadata": {},
   "source": [
    "### Question 1 (1 pts)\n",
    "\n",
    "In the time plot from the previous sections, mark the regions of the other phonemes and label each region with the correct phonetic symbol."
   ]
  },
  {
   "cell_type": "markdown",
   "id": "4da374cc",
   "metadata": {},
   "source": [
    "### Question 2 (1 pts)\n",
    "\n",
    "Can consonants have formant frequencies?"
   ]
  },
  {
   "cell_type": "markdown",
   "id": "a6c48c27",
   "metadata": {},
   "source": [
    "### Question 3 (0.5 pts)\n",
    "\n",
    "What is a diphthong?"
   ]
  },
  {
   "cell_type": "markdown",
   "id": "57c6714d",
   "metadata": {},
   "source": [
    "### Question 4 (0.5 pts)\n",
    "\n",
    "How many phonemes are there in English?"
   ]
  },
  {
   "cell_type": "markdown",
   "id": "6087b708",
   "metadata": {},
   "source": [
    "### Question 5 (0.5 pts)\n",
    "\n",
    "What is a phone? What is an allophone? How many allophones are there?"
   ]
  },
  {
   "cell_type": "markdown",
   "id": "0997d1c9",
   "metadata": {},
   "source": [
    "## The Spectrogram (3 pts)\n",
    "\n",
    "Program a spectrogram function in Python. A spectrogram shows the energy in speech as a function of time and frequency. The result is often displayed with time on the horizontal axis, and frequency on the vertical\n",
    "axis. The energy (squared magnitude, and in dB) of the DFT coefficients are illustrated by e.g. a grayscale, where black corresponds to high energy, and white represents low energy. To obtain a smooth evolution over time,\n",
    "we want to use overlapping analysis windows, see Figure 1. \n",
    "Test your function on the speech samples provided for this lab. For the presentation have the result for “male short” available.\n",
    "<img src=\"./windowing.png\" alt=\"alt text\" width=\"400\"/>"
   ]
  },
  {
   "cell_type": "markdown",
   "id": "9dc13841",
   "metadata": {},
   "source": [
    "### Question 1 (0.5 pts)\n",
    "\n",
    "First program a function that extracts overlapping frames and plots each frame. \n",
    "Input arguments should be update length, and analysis length.\n",
    "\n",
    "Call `myspectrogram(x_short, 256, 32)` and view the animation. "
   ]
  },
  {
   "cell_type": "code",
   "execution_count": 17,
   "id": "1527631c",
   "metadata": {},
   "outputs": [],
   "source": [
    "%matplotlib auto\n",
    "def myspectrogram(x, alen, ulen):\n",
    "    \"\"\" x is the speech vector, \n",
    "    alen is the analysis frame length, \n",
    "    ulen is the update length\"\"\"\n",
    "    N = len(x)\n",
    "    naf = (N-alen+ulen)//ulen\n",
    "    n1 = 0\n",
    "    plt.figure()\n",
    "    for n in range(0,naf):\n",
    "        xf = x[n1:n1+alen]\n",
    "        plt.cla()\n",
    "        plt.plot(xf)\n",
    "        plt.xlim([1,alen])\n",
    "        plt.ylim([min(x),max(x)])\n",
    "        plt.pause(0.05)\n",
    "        n1 = n1 + ulen\n",
    "myspectrogram(d[\"male_short\"], 256, 32)"
   ]
  },
  {
   "cell_type": "markdown",
   "id": "ef9970b6",
   "metadata": {},
   "source": [
    "### Question 2 (0.5 pts)\n",
    "\n",
    "Next add frequency analysis of each frame. Use the code for the DFT based spectrum from section 3 (dont forget to window before DFT). If you want to plot both the time domain signal, and the spectrum in the same plot, but in different parts of the window, see subplot. Illustrate the function as in the previous step."
   ]
  },
  {
   "cell_type": "markdown",
   "id": "5a737165",
   "metadata": {},
   "source": [
    "### Question 3 (1 pts)\n",
    "\n",
    "Now we are ready to implement the classical spectrogram. Instead of plotting the squared magnitude of the DFT, you put it into the columns of a matrix S. Preallocate the matrix with \n",
    "```python\n",
    "S = np.zeros((alen//2+1, naf))\n",
    "```\n",
    "In the loop you write to column n by \n",
    "\n",
    "```python\n",
    "S[:,n] = ...\n",
    "```\n",
    "In this assignment it is important that the right hand side is a column vector. To plot the spectrogram, use the following code:\n",
    "```python\n",
    "\n",
    "# type help gray for other colormaps\n",
    "plt.imshow(np.flipud(-S), aspect=\"equal\",cmap=\"gray\"); # flipud flips S along the frequency axis so that\n",
    "# frequencies increase when we move up the vertical axis\n",
    "# -S makes black correspond to high energy!\n",
    "```\n"
   ]
  },
  {
   "cell_type": "markdown",
   "id": "5c38c645",
   "metadata": {},
   "source": [
    "### Question 4 (0.5 pts)\n",
    "\n",
    "Produce a narrow-band spectrogram. Be prepared to indicate the fundamental frequency track, and the boundaries of the phonemes."
   ]
  },
  {
   "cell_type": "markdown",
   "id": "21420cf9",
   "metadata": {},
   "source": [
    "### Question 5 (0.5 pts)\n",
    "\n",
    "Produce a wide-band spectrogram. Here the spectrogram tends to become blocky if smoothing is not performed in the frequency domain. Incorporate smoothing by zero-padding before applying the DFT. Can you see the\n",
    "formant trajectories?"
   ]
  },
  {
   "cell_type": "markdown",
   "id": "f09d323c",
   "metadata": {},
   "source": [
    "## Speech Parameter Estimation (5 pts)\n",
    "\n",
    "In this section, you will analyze (estimate) the parameters of a vocoder model. In the next section you will synthesize speech based on the estimated parameters. The parameters we will estimate are frame energy, pitch, vocal tract filter coefficients, and voiced/unvoiced classification. The estimation should be done on a frame-by-frame basis and we will use overlapping analysis frames. Just as in the case of the spectrogram the choice of analysis frame length is a compromise between having long enough frames to get reliable estimates, but not too long so that rapid events are averaged out 2. Also as in the spectrogram case, the update length controls the smoothness of\n",
    "the parameter trajectories over time."
   ]
  },
  {
   "cell_type": "markdown",
   "id": "a23371ad",
   "metadata": {},
   "source": [
    "### Question 1 (0.5 pts)\n",
    "\n",
    "Let us warm up with estimation of frame energy (normalized per sample)\n",
    "$E = \\frac{1}{N_\\alpha}\\sum_{n=0}^{N_\\alpha-1}x^2(n)$\n",
    "\n",
    "where $N_\\alpha$ is the analysis frame length and the sum is over the samples in one analysis frame. Write a function that returns the frame energies in a vector. Start with the function skeleton from the first task in section 6. Before the loop over all frames, allocate space for the vector of energies:"
   ]
  },
  {
   "cell_type": "code",
   "execution_count": 19,
   "id": "150821bb",
   "metadata": {},
   "outputs": [],
   "source": [
    "def analysis(x, alen, ulen):\n",
    "    naf = ...\n",
    "    # Initialization\n",
    "    E = np.zeros((naf, 1));\n",
    "    # Inside loop\n",
    "    E[n] = ...\n",
    "    return E"
   ]
  },
  {
   "cell_type": "markdown",
   "id": "5d409cde",
   "metadata": {},
   "source": [
    "### Question 2 (1 pts)\n",
    "\n",
    "Next let us look at voiced/unvoiced detection. This is a difficult problem, but here we resolve to a simple solution based on zero-crossings. A zero\n",
    "crossing occurs when $x(n)x(n − 1) < 0$. By counting all those occurrences within a frame, and normalizing by the frame length, a (near) continuous\n",
    "parameter is obtained. To make a binary decision a threshold can be used (by normalizing with the frame length, the threshold becomes independent\n",
    "(almost) of the analysis frame length). Extend your analysis function like:"
   ]
  },
  {
   "cell_type": "code",
   "execution_count": 21,
   "id": "d231dad9",
   "metadata": {},
   "outputs": [],
   "source": [
    "def analysis(x, alen, ulen):\n",
    "    naf=...\n",
    "    # Initialization\n",
    "    E = np.zeros((naf, 1));\n",
    "    ZC = np.zeros((naf, 1));\n",
    "    V = np.zeros((naf, 1));\n",
    "    \n",
    "    # Inside loop\n",
    "    E[n] = ...\n",
    "    ZC[n] = ... # The normalized number of zero crossings\n",
    "    V[n] = ... # Equal to 1 if voiced, 0 if unvoiced.\n",
    "    return E, ZC, V"
   ]
  },
  {
   "cell_type": "markdown",
   "id": "9138cdbf",
   "metadata": {},
   "source": [
    "### Question 3 (0.5 pts)\n",
    "\n",
    "Next extend your analysis function by incorporating code for vocal tract\n",
    "filter estimation via LP analysis. The code from Section 3 should work\n",
    "fine! Store the filter parameters in the rows of a matrix like:"
   ]
  },
  {
   "cell_type": "code",
   "execution_count": 22,
   "id": "a8695356",
   "metadata": {},
   "outputs": [],
   "source": [
    "def analysis(x, alen, ulen, M):\n",
    "    # Initialization\n",
    "    E = np.zeros((naf, 1));\n",
    "    ZC = np.zeros((naf, 1));\n",
    "    V = np.zeros((naf, 1));\n",
    "    A = np.zeros((naf, M+1)); # M is the prediction order.\n",
    "    # M+1 allows space for the leading 1\n",
    "    # Inside loop\n",
    "    E[n] = ...\n",
    "    ZC[n] = ... # The normalized number of zero crossings\n",
    "    V[n] = ... # Equal to 1 if voiced, 0 if unvoiced.\n",
    "    A[n,:] = ... # Make sure the polynomial coefficients are in a row vector\n",
    "    return E, ZC, V, A\n"
   ]
  },
  {
   "cell_type": "markdown",
   "id": "e99495fd",
   "metadata": {},
   "source": [
    "### Question 4 (0.5 pts)\n",
    "\n",
    "Finally extend the function with pitch analysis. Many speech coding (compression) systems depend on accurate pitch analysis. Here we base our estimation on the correlation function of the frame. You may choose if you\n",
    "wish to use the ACF or the normalized cross-correlation function (slightly more difficult to program). The problem you have to solve is how to find the lag of the peak in the ACF that corresponds to one pitch period. This is usually easy to do “manually”, i.e., by looking at the ACF, but you have to make the computer do it automatically! The function will finally look something like"
   ]
  },
  {
   "cell_type": "code",
   "execution_count": 23,
   "id": "0a65d71e",
   "metadata": {},
   "outputs": [],
   "source": [
    "def analysis(x, alen, ulen, M):\n",
    "    # Initialization\n",
    "    E = np.zeros((naf, 1));\n",
    "    ZC = np.zeros((naf, 1));\n",
    "    V = np.zeros((naf, 1));\n",
    "    A = np.zeros((naf, M+1)); # M is the prediction order.\n",
    "    # M+1 allows space for the leading 1\n",
    "    P = np.zeros((naf, 1));\n",
    "    \n",
    "    # Inside loop\n",
    "    E[n] = ...\n",
    "    ZC[n] = ... # The normalized number of zero crossings\n",
    "    V[n] = ... # Equal to 1 if voiced, 0 if unvoiced.\n",
    "    A[n,:] = ... # Make sure the polynomial coefficients are in a row vector!\n",
    "    P[n] = ... # Pitch period in samples \n",
    "    return E, ZC, V, A, P"
   ]
  },
  {
   "cell_type": "markdown",
   "id": "57c7884f",
   "metadata": {},
   "source": [
    "### Question 5 (0.5 pts)\n",
    "\n",
    "Plot the output of your analysis function with the following code (or include the code below in the analysis function).\n",
    "Test and tune your analysis function on the files “male long”, and “female\n",
    "long”. Be prepared to provide plots with smooth temporal evolution, i.e., with ulen = 1."
   ]
  },
  {
   "cell_type": "code",
   "execution_count": null,
   "id": "91be9a70",
   "metadata": {},
   "outputs": [],
   "source": [
    "plt.figure()\n",
    "\n",
    "plt.subplot(3,2,1)\n",
    "plt.plot(x) # Plot the input waveform\n",
    "plt.xlim([1, len(x)])\n",
    "plt.ylim([np.min(x), np.max(x)])\n",
    "\n",
    "plt.subplot(3,2,2)\n",
    "plt.plot(np.sqrt(E)) # Plot the standard deviation\n",
    "plt.xlim([1,len(E)])\n",
    "plt.ylim([np.min(np.sqrt(E)),np.max(np.sqrt(E))]);\n",
    "\n",
    "plt.subplot(3,2,3)\n",
    "plt.plot(V) # Plot voiced/unvoiced decision\n",
    "plt.xlim([1, len(V)])\n",
    "plt.ylim([0,1]);\n",
    "\n",
    "plt.subplot(3,2,4)\n",
    "plt.plot(ZC) # Plot the normalized number of zero-crossings\n",
    "plt.xlim([1,len(ZC)])\n",
    "plt.ylim([np.min(ZC),np.max(ZC)])\n",
    "\n",
    "plt.subplot(3,2,5)\n",
    "F = 8000./P;\n",
    "plt.plot(F) # Plot the fundamental frequency in Hz\n",
    "plt.xlim([1,len(F)])\n",
    "plt.ylim([0,600]);\n",
    "\n",
    "plt.subplot(3,2,6)\n",
    "S = np.zeros(512, naf);\n",
    "for n in range(0,naf):\n",
    "    S[:,n] = 20*np.log10(np.abs(signal.freqz(1,A[n,:],512)));\n",
    "\n",
    "S = np.flipud(S);\n",
    "plt.imshow(S,cmap=\"gray\"); # Illustrate the vocal tract envelope in a spectrogram style!"
   ]
  },
  {
   "cell_type": "markdown",
   "id": "79777a81",
   "metadata": {},
   "source": [
    "### Question 6 (1 pts)\n",
    "\n",
    "What could make the voiced/unvoiced detection go wrong? "
   ]
  },
  {
   "cell_type": "markdown",
   "id": "b1f9fb2b",
   "metadata": {},
   "source": [
    "### Question 7 (1 pts)\n",
    "\n",
    "In the pitch estimation, what can cause pitch doubling? What can be the reason for pitch halving?"
   ]
  },
  {
   "cell_type": "markdown",
   "id": "16db5c88",
   "metadata": {},
   "source": [
    "## Vocoder (5 pts)\n",
    "\n",
    "In this section we will synthesize speech based on the parameters from the analysis. Speech coding (compression) systems based on this principle are called vocoders and can reach bit rates as low as 2 kbits/second when the parameters are quantized. This can be compared with 64 kbits/second for the PCM system used in fixed telephone networks. The quality of the vocoder is lower though. Here we will synthesize speech based on unquantized parameters."
   ]
  },
  {
   "cell_type": "markdown",
   "id": "bdd778a3",
   "metadata": {},
   "source": [
    "### Question 1 (1 pts)\n",
    "\n",
    "Let us start by only incorporating the vocal tract filter in the synthesis.\n",
    "Make sure you use the same update length (ulen) in the synthesis as in the analysis! Make sure you understand why ulen samples are generated in the synthesis for each analysis frame 3.\n",
    "Test with a pulse train excitation (use a constant pitch corresponding to 100 Hz). Then test with noise excitation. Can you hear what is said based on only vocal tract parameters (you may need to rescale the whole output\n",
    "before playing back)?\n",
    "\n",
    "\n",
    "Note:\n",
    "Instead of varifilter you can also use the Python function `lfiltic` to implement the\n",
    "synthesis. But then you have to make sure that the final filter state after one frame is used as\n",
    "initial state in the next frame. The simple `filtfilt` function in Python is not designed\n",
    "for time-varying coefficients and audible clicks may result. To remedy this, see the function\n",
    "filtic, and varifilter. Another option is to implement the filter yourself. In that way you\n",
    "have full control over the filter memory. The downside is that your filter will probably execute\n",
    "slower than Python’s filter which is a built-in function.\n",
    "\n",
    "Write a function like:"
   ]
  },
  {
   "cell_type": "code",
   "execution_count": 28,
   "id": "2dbb61eb",
   "metadata": {},
   "outputs": [],
   "source": [
    "def synthesis1(E, ZC, V, A, P, ulen):\n",
    "    # We have included all the estimated parameters as input arguments but here we only use A!\n",
    "    n_frames = A.shape[1]; # Assuming filter coefficients are stored row-wise\n",
    "    \n",
    "    # Create a pulse train excitation:\n",
    "    cp = ...; # Constant pitch period in samples\n",
    "    pexc = np.zeros((n_frames*ulen, 1));\n",
    "    pexc[0::cp] = 1;\n",
    "    \n",
    "    # Create noise excitation:\n",
    "    nexc = ...\n",
    "    n1 = 0\n",
    "    Z = np.array([])\n",
    "    s = np.zeros((n_frames*ulen,1))\n",
    "    \n",
    "    for n in range(0, n_frames):   \n",
    "        # Filter the excitation through the production (vocal tract) filter:      \n",
    "        # Low pass filter\n",
    "        if Z.shape[0] == 0: # 1st iteration\n",
    "            s[n1:n1+ulen] = signal.lfilter(np.array([1]), A[n,:], pexc[n1:n1+ulen])\n",
    "            Z = signal.lfiltic(np.array([1]), A[n,:], s[n1:n1+ulen], x=pexc[n1:n1+ulen])\n",
    "\n",
    "        else:\n",
    "            s[n1:n1+ulen],Z = signal.lfilter(np.array([1]), A[n,:], pexc[n1:n1+ulen], zi=Z)\n",
    "\n",
    "        n1 = n1+ulen\n",
    "    \n",
    "    return s"
   ]
  },
  {
   "cell_type": "markdown",
   "id": "5d6e31be",
   "metadata": {},
   "source": [
    "### Question 2 (1 pts)\n",
    "\n",
    " Make sure the energy contour of the synthesized speech matches that of the original speech. A crude but simple way is to (re)normalize each synthesized frame to have frame energy $E(n)$.\n",
    "\n",
    "Write a new function `synthesis2` (naturally based on `synthesis1`).\n",
    "Test with the pulse and noise excitations from the previous task. How much does the energy contour contribute to the intelligibility?\n",
    "\n",
    "Note: In the most straightforward energy normalization, a problem occurs when the synthesis\n",
    "frame contains no pitch pulses (this will happen frequently if your update length is short).\n",
    "Can you suggest a fix? It may require estimating the prediction residual energy (thus changing\n",
    "also your analysis function slightly), and re-normalizing the excitation (before filtering) during\n",
    "synthesis."
   ]
  },
  {
   "cell_type": "code",
   "execution_count": 30,
   "id": "01fe1dd8",
   "metadata": {},
   "outputs": [],
   "source": [
    "def synthesis2(E, ZC, V, A, P, ulen):\n",
    "    return s"
   ]
  },
  {
   "cell_type": "markdown",
   "id": "984bd6ff",
   "metadata": {},
   "source": [
    "### Question 3 (0.5 pts)\n",
    "\n",
    "Switch between pulse excitation and noise excitation based on the voiced/\n",
    "unvoiced decision, and write `synthesis3`.\n",
    "Does this increase intelligibility? Our vocoder model assumes that all speech sounds are either voiced or unvoiced. Is this true? Discuss how our vocoder could be modified?\n"
   ]
  },
  {
   "cell_type": "code",
   "execution_count": 29,
   "id": "9af70292",
   "metadata": {},
   "outputs": [],
   "source": [
    "def synthesis3(E, ZC, V, A, P, ulen):\n",
    "    return s"
   ]
  },
  {
   "cell_type": "markdown",
   "id": "a5a842ff",
   "metadata": {},
   "source": [
    "### Question 4 (1 pts)\n",
    "\n",
    " Create a function `synthesis4` by adding time varying pitch! Now you cannot use the variable pexc anymore, but have to create the pulse train \"on the fly\".\n",
    "One way is to keep a counter that is incremented for each sample during voiced frames.\n",
    "When the counter equals or exceeds the current pitch value, a pulse is inserted into the excitation, and the counter is set to zero. The quality of the synthesized speech depends a lot on the quality of the pitch estimate.\n",
    "Make sure the pitch contour is smooth in voiced regions.\n",
    "If necessary you may median filter the pitch contour prior to synthesis."
   ]
  },
  {
   "cell_type": "code",
   "execution_count": 31,
   "id": "b24792d6",
   "metadata": {},
   "outputs": [],
   "source": [
    "def synthesis4(E, ZC, V, A, P, ulen):\n",
    "    return s"
   ]
  },
  {
   "cell_type": "markdown",
   "id": "c46a0f80",
   "metadata": {},
   "source": [
    "### Question 5 (1.5 pts)\n",
    "\n",
    "Tune your analysis and synthesis functions so that the produced speech has as high quality as possible. We want to hear an exciting result! Please\n",
    "make sure the vocoder output is readily available in a separate file when you come to present your results. \n"
   ]
  }
 ],
 "metadata": {
  "kernelspec": {
   "display_name": "Python 3 (ipykernel)",
   "language": "python",
   "name": "python3"
  },
  "language_info": {
   "codemirror_mode": {
    "name": "ipython",
    "version": 3
   },
   "file_extension": ".py",
   "mimetype": "text/x-python",
   "name": "python",
   "nbconvert_exporter": "python",
   "pygments_lexer": "ipython3",
   "version": "3.8.5"
  }
 },
 "nbformat": 4,
 "nbformat_minor": 5
}
